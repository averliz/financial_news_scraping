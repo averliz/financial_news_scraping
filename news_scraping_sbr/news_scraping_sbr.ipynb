{
  "cells": [
    {
      "cell_type": "code",
      "execution_count": 55,
      "metadata": {
        "id": "gQxqRoGat9Qv"
      },
      "outputs": [],
      "source": [
        "import newspaper\n",
        "from newspaper import Article\n",
        "from newspaper import news_pool\n",
        "import pandas as pd\n",
        "import requests\n",
        "from bs4 import BeautifulSoup\n",
        "import pandas as pd\n",
        "import random\n",
        "import pickle\n",
        "import datetime\n",
        "import gzip \n",
        "import advertools as adv\n",
        "from IPython.display import clear_output "
      ]
    },
    {
      "cell_type": "markdown",
      "metadata": {
        "id": "QwMvqNRV1RVl"
      },
      "source": [
        "## Crawling article links from Yahoo Finance News sitemap"
      ]
    },
    {
      "cell_type": "code",
      "execution_count": 56,
      "metadata": {},
      "outputs": [],
      "source": [
        "exclusion_list = ['/hr-education/', '/leisure-entertainment/', '/media-marketing/', '/professional-services/', '/professional-serviceslegal/']\n",
        "inclusion_list = ['/news/', '/more-news/']"
      ]
    },
    {
      "cell_type": "code",
      "execution_count": 18,
      "metadata": {},
      "outputs": [
        {
          "name": "stderr",
          "output_type": "stream",
          "text": [
            "2022-11-01 16:11:16,585 | INFO | sitemaps.py:536 | sitemap_to_df | Getting https://sbr.com.sg/sitemap.xml?page=1\n",
            "2022-11-01 16:11:17,816 | INFO | sitemaps.py:536 | sitemap_to_df | Getting https://sbr.com.sg/sitemap.xml?page=2\n"
          ]
        }
      ],
      "source": [
        "i = 0\n",
        "link_list = []\n",
        "for page in [1, 2]:\n",
        "    search_url = \"https://sbr.com.sg/sitemap.xml?page={}\".format(page)\n",
        "    try:\n",
        "        sbr_sitemap = adv.sitemap_to_df(search_url)\n",
        "        page_link_list_raw = sbr_sitemap['loc'].tolist()\n",
        "        # page_link_list = [link for link in page_link_list_raw if any(\n",
        "        #     exclude in link for exclude in exclusion_list)]\n",
        "        link_list.extend(page_link_list_raw)\n",
        "    except:\n",
        "        continue\n"
      ]
    },
    {
      "cell_type": "code",
      "execution_count": 19,
      "metadata": {},
      "outputs": [
        {
          "data": {
            "text/plain": [
              "67061"
            ]
          },
          "execution_count": 19,
          "metadata": {},
          "output_type": "execute_result"
        }
      ],
      "source": [
        "len(link_list)"
      ]
    },
    {
      "cell_type": "code",
      "execution_count": 20,
      "metadata": {},
      "outputs": [],
      "source": [
        "# Save as pickle\n",
        "with open('sbr_link_list_dump.pkl', 'wb') as f:\n",
        "    pickle.dump(link_list, f)"
      ]
    },
    {
      "cell_type": "markdown",
      "metadata": {},
      "source": [
        "Filtering to include only news as identified with '/news/' and '/more-news/' excluding link from these industries - '/hr-education/', '/leisure-entertainment/', '/media-marketing/', '/professional-services/', '/professional-serviceslegal/'"
      ]
    },
    {
      "cell_type": "code",
      "execution_count": 57,
      "metadata": {},
      "outputs": [],
      "source": [
        "with open('sbr_link_list_dump.pkl', 'rb') as f:\n",
        "    link_list_dump = pickle.load(f)"
      ]
    },
    {
      "cell_type": "code",
      "execution_count": 21,
      "metadata": {},
      "outputs": [
        {
          "data": {
            "text/plain": [
              "67061"
            ]
          },
          "execution_count": 21,
          "metadata": {},
          "output_type": "execute_result"
        }
      ],
      "source": [
        "len(link_list)"
      ]
    },
    {
      "cell_type": "code",
      "execution_count": 58,
      "metadata": {},
      "outputs": [],
      "source": [
        "link_list_news = [link for link in link_list_dump if any(\n",
        "    include in link for include in inclusion_list)]\n",
        "\n",
        "link_list_news = [link for link in link_list_news if not any(\n",
        "    excluded in link for excluded in exclusion_list)]\n",
        "\n",
        "link_list_news = list(set(link_list_news))"
      ]
    },
    {
      "cell_type": "code",
      "execution_count": 59,
      "metadata": {},
      "outputs": [
        {
          "data": {
            "text/plain": [
              "42401"
            ]
          },
          "execution_count": 59,
          "metadata": {},
          "output_type": "execute_result"
        }
      ],
      "source": [
        "len(link_list_news)"
      ]
    },
    {
      "cell_type": "code",
      "execution_count": 60,
      "metadata": {
        "id": "5ToWoPo0WK4-"
      },
      "outputs": [],
      "source": [
        "# Save as pickle\n",
        "with open('sbr_link_list_news_more_news.pkl', 'wb') as f:\n",
        "    pickle.dump(link_list_news, f)"
      ]
    },
    {
      "cell_type": "code",
      "execution_count": 61,
      "metadata": {},
      "outputs": [],
      "source": [
        "with open('sbr_link_list_news_more_news.pkl', 'rb') as f:\n",
        "    link_list_news = pickle.load(f)"
      ]
    },
    {
      "cell_type": "code",
      "execution_count": 62,
      "metadata": {},
      "outputs": [
        {
          "data": {
            "text/plain": [
              "42401"
            ]
          },
          "execution_count": 62,
          "metadata": {},
          "output_type": "execute_result"
        }
      ],
      "source": [
        "len(link_list_news)"
      ]
    },
    {
      "cell_type": "markdown",
      "metadata": {
        "id": "-uY-GXXa1NZU"
      },
      "source": [
        "Set Indexes to crawl from "
      ]
    },
    {
      "cell_type": "code",
      "execution_count": 149,
      "metadata": {
        "id": "TR9YMdUN1NZV"
      },
      "outputs": [],
      "source": [
        "# start, end = 0, 5000"
      ]
    },
    {
      "cell_type": "markdown",
      "metadata": {
        "id": "Ug3V6E-V1d_7"
      },
      "source": [
        "# Get Article objects"
      ]
    },
    {
      "cell_type": "code",
      "execution_count": 63,
      "metadata": {},
      "outputs": [
        {
          "data": {
            "text/plain": [
              "15000"
            ]
          },
          "execution_count": 63,
          "metadata": {},
          "output_type": "execute_result"
        }
      ],
      "source": [
        "link_list_news_15k = random.sample(link_list_news, 15000)\n",
        "len(link_list_news_15k)"
      ]
    },
    {
      "cell_type": "code",
      "execution_count": 64,
      "metadata": {},
      "outputs": [],
      "source": [
        "# Save as pickle\n",
        "with open('sbr_link_list_news_more_news_random_15k.pkl', 'wb') as f:\n",
        "    pickle.dump(link_list_news_15k, f)"
      ]
    },
    {
      "cell_type": "code",
      "execution_count": 38,
      "metadata": {
        "colab": {
          "base_uri": "https://localhost:8080/"
        },
        "id": "Oso8B57KINm3",
        "outputId": "a50a5b09-32c5-4335-9802-a48d6eedccf5"
      },
      "outputs": [
        {
          "name": "stdout",
          "output_type": "stream",
          "text": [
            "50\n"
          ]
        }
      ],
      "source": [
        "from IPython.display import clear_output\n",
        "import time\n",
        "results = {}\n",
        "i = 0\n",
        "for link in link_list_news_15k:\n",
        "    try:\n",
        "        article = Article(link)\n",
        "        article.download()\n",
        "        article.parse()\n",
        "        article.nlp()\n",
        "        results[link] = article\n",
        "        clear_output(wait=True)\n",
        "        i += 1\n",
        "        print(i)\n",
        "    except:\n",
        "        clear_output(wait=True)\n",
        "        print('F')\n",
        "        continue\n"
      ]
    },
    {
      "cell_type": "code",
      "execution_count": 39,
      "metadata": {
        "id": "qG8qzArL1NZX"
      },
      "outputs": [],
      "source": [
        "d = {\n",
        "    'link': [article for article in results],\n",
        "    'title': [results[article].title for article in results],\n",
        "    'summary': [results[article].summary for article in results],\n",
        "    'text': [results[article].text for article in results],\n",
        "    # 'top_img': [results[article].top_img for article in results],\n",
        "    'publish_date': [results[article].publish_date for article in results],\n",
        "    'keywords': [results[article].keywords for article in results],\n",
        "    'tags': [results[article].tags for article in results]\n",
        "}\n"
      ]
    },
    {
      "cell_type": "markdown",
      "metadata": {
        "id": "Kn9SkGE01haX"
      },
      "source": [
        "# Save as JSON"
      ]
    },
    {
      "cell_type": "code",
      "execution_count": 40,
      "metadata": {
        "id": "lOYHvTfBluaP"
      },
      "outputs": [],
      "source": [
        "df = pd.DataFrame(data=d)\n",
        "df['publish_date'] = pd.to_datetime(df['publish_date'], utc=True)\n",
        "df['publish_date'] = df['publish_date'].dt.strftime('%Y/%m/%d, %H:%M:%S')\n",
        "result = df.to_json(orient=\"records\")\n",
        "with open(f'sbr_news_data_15k.json', 'w') as outfile:\n",
        "    outfile.write(result)\n"
      ]
    },
    {
      "cell_type": "markdown",
      "metadata": {},
      "source": [
        "### Open JSON File\n"
      ]
    },
    {
      "cell_type": "code",
      "execution_count": 40,
      "metadata": {},
      "outputs": [
        {
          "data": {
            "text/plain": [
              "50"
            ]
          },
          "execution_count": 40,
          "metadata": {},
          "output_type": "execute_result"
        }
      ],
      "source": [
        "import json \n",
        "f = open('sbr_news_data_15k.json')\n",
        "data = json.load(f)\n",
        "len(data)"
      ]
    },
    {
      "cell_type": "code",
      "execution_count": 10,
      "metadata": {},
      "outputs": [
        {
          "data": {
            "text/plain": [
              "'Its O&M division also performed poorly and lost $60m.\\n\\nKeppel Corporation struggled to keep their records up as their profits for the second quarter reached only $160.3m, a 22.1% drop from last year\\'s.\\n\\nAccording to the group’s quarterly report, its Offshore and Marine (O&M) division had a net profit of $1.4m, far from last year\\'s $61.4m, no thanks to cost-cutting and downsizing.\\n\\nIn a statement, Keppel Chief Executive Officer Loh Chin Hua said, \"Rightsizing efforts undertaken by Keppel O&M helped to achieve an operating profit of $36m, but it was not sufficient to cover higher financing costs for the enlarged working capital.\"\\n\\nMeanwhile, OCBC Investment Research reported that the group’s profits from its other divisions continued to rise steadily. Keppel gained $96.6m profit from properties and $24.6m from infrastructure.\\n\\nOCBC added that the company retained its dividend of 8 S-cents per share, which was similar to last year\\'s amount.\\n\\n'"
            ]
          },
          "execution_count": 10,
          "metadata": {},
          "output_type": "execute_result"
        }
      ],
      "source": [
        "a = Article(\"https://sbr.com.sg/energy-offshore/news/keppels-profit-down-221-1603m-in-q2\")\n",
        "a.download()\n",
        "a.parse()\n",
        "a.nlp()\n",
        "a.text"
      ]
    },
    {
      "cell_type": "code",
      "execution_count": 42,
      "metadata": {},
      "outputs": [
        {
          "data": {
            "text/plain": [
              "{'link': 'https://sbr.com.sg/energy-offshore/news/keppels-profit-down-221-1603m-in-q2',\n",
              " 'title': \"Keppel's profit down 22.1% to $160.3m in Q2\",\n",
              " 'summary': \"Its O&M division also performed poorly and lost $60m.\\nKeppel Corporation struggled to keep their records up as their profits for the second quarter reached only $160.3m, a 22.1% drop from last year's.\\nAccording to the group’s quarterly report, its Offshore and Marine (O&M) division had a net profit of $1.4m, far from last year's $61.4m, no thanks to cost-cutting and downsizing.\\nMeanwhile, OCBC Investment Research reported that the group’s profits from its other divisions continued to rise steadily.\\nOCBC added that the company retained its dividend of 8 S-cents per share, which was similar to last year's amount.\",\n",
              " 'text': 'Its O&M division also performed poorly and lost $60m.\\n\\nKeppel Corporation struggled to keep their records up as their profits for the second quarter reached only $160.3m, a 22.1% drop from last year\\'s.\\n\\nAccording to the group’s quarterly report, its Offshore and Marine (O&M) division had a net profit of $1.4m, far from last year\\'s $61.4m, no thanks to cost-cutting and downsizing.\\n\\nIn a statement, Keppel Chief Executive Officer Loh Chin Hua said, \"Rightsizing efforts undertaken by Keppel O&M helped to achieve an operating profit of $36m, but it was not sufficient to cover higher financing costs for the enlarged working capital.\"\\n\\nMeanwhile, OCBC Investment Research reported that the group’s profits from its other divisions continued to rise steadily. Keppel gained $96.6m profit from properties and $24.6m from infrastructure.\\n\\nOCBC added that the company retained its dividend of 8 S-cents per share, which was similar to last year\\'s amount.\\n\\n',\n",
              " 'publish_date': '2017/07/21, 08:33:28',\n",
              " 'keywords': ['profit',\n",
              "  'working',\n",
              "  'thanks',\n",
              "  'keppel',\n",
              "  'keppels',\n",
              "  'yearsaccording',\n",
              "  'q2',\n",
              "  'profits',\n",
              "  '221',\n",
              "  'groups',\n",
              "  'undertaken',\n",
              "  '1603m',\n",
              "  'division',\n",
              "  'om'],\n",
              " 'tags': []}"
            ]
          },
          "execution_count": 42,
          "metadata": {},
          "output_type": "execute_result"
        }
      ],
      "source": [
        "data[0]"
      ]
    },
    {
      "cell_type": "code",
      "execution_count": 53,
      "metadata": {},
      "outputs": [
        {
          "name": "stdout",
          "output_type": "stream",
          "text": [
            "-0.15555555555555559\n",
            "0.0\n",
            "0.0\n",
            "-0.1134920634920635\n",
            "0.0\n",
            "-0.2\n",
            "0.0\n",
            "0.0\n",
            "0.0\n",
            "-0.3\n"
          ]
        }
      ],
      "source": [
        "from textblob import TextBlob\n",
        "for i in range(10):\n",
        "    text_blob = TextBlob(data[i]['title'])\n",
        "    text_sentiment = text_blob.sentiment_assessments\n",
        "    print(text_sentiment.polarity)\n",
        "    text_sentiment.polarity"
      ]
    },
    {
      "cell_type": "code",
      "execution_count": 54,
      "metadata": {},
      "outputs": [
        {
          "data": {
            "text/plain": [
              "[{'link': 'https://sbr.com.sg/energy-offshore/news/keppels-profit-down-221-1603m-in-q2',\n",
              "  'title': \"Keppel's profit down 22.1% to $160.3m in Q2\",\n",
              "  'summary': \"Its O&M division also performed poorly and lost $60m.\\nKeppel Corporation struggled to keep their records up as their profits for the second quarter reached only $160.3m, a 22.1% drop from last year's.\\nAccording to the group’s quarterly report, its Offshore and Marine (O&M) division had a net profit of $1.4m, far from last year's $61.4m, no thanks to cost-cutting and downsizing.\\nMeanwhile, OCBC Investment Research reported that the group’s profits from its other divisions continued to rise steadily.\\nOCBC added that the company retained its dividend of 8 S-cents per share, which was similar to last year's amount.\",\n",
              "  'text': 'Its O&M division also performed poorly and lost $60m.\\n\\nKeppel Corporation struggled to keep their records up as their profits for the second quarter reached only $160.3m, a 22.1% drop from last year\\'s.\\n\\nAccording to the group’s quarterly report, its Offshore and Marine (O&M) division had a net profit of $1.4m, far from last year\\'s $61.4m, no thanks to cost-cutting and downsizing.\\n\\nIn a statement, Keppel Chief Executive Officer Loh Chin Hua said, \"Rightsizing efforts undertaken by Keppel O&M helped to achieve an operating profit of $36m, but it was not sufficient to cover higher financing costs for the enlarged working capital.\"\\n\\nMeanwhile, OCBC Investment Research reported that the group’s profits from its other divisions continued to rise steadily. Keppel gained $96.6m profit from properties and $24.6m from infrastructure.\\n\\nOCBC added that the company retained its dividend of 8 S-cents per share, which was similar to last year\\'s amount.\\n\\n',\n",
              "  'publish_date': '2017/07/21, 08:33:28',\n",
              "  'keywords': ['profit',\n",
              "   'working',\n",
              "   'thanks',\n",
              "   'keppel',\n",
              "   'keppels',\n",
              "   'yearsaccording',\n",
              "   'q2',\n",
              "   'profits',\n",
              "   '221',\n",
              "   'groups',\n",
              "   'undertaken',\n",
              "   '1603m',\n",
              "   'division',\n",
              "   'om'],\n",
              "  'tags': []},\n",
              " {'link': 'https://sbr.com.sg/aviation/news/sia-and-japanese-airline-ana-ink-jv-deal',\n",
              "  'title': 'SIA and Japanese airline ANA ink JV deal',\n",
              "  'summary': 'Singapore Airlines (SIA) and Japan’s All Nippon Airways (ANA) signed a joint venture framework agreement that aims to improve flight connectivity between the two carriers and access to a wider network.\\nThis would also allow ANA and SIA to further strengthen their cooperation on services between Singapore and Japan, including key markets Australia, India, Indonesia, and Malaysia.\\nThis deal will focus on codeshare flights, mileage programmes, lounge access, and coordination on check-in baggage and connecting flights.\\nIf authorised, SIA will become the third airline joint venture partner for ANA, following its partnership with United Airlines in 2011 and Lufthansa Group in 2012.\\nThe airline also mentioned that they are planning to form a JV with Malaysia Airlines Berhad.',\n",
              "  'text': 'The team-up will focus on codeshare flights, mileage programmes and lounge access.\\n\\nSingapore Airlines (SIA) and Japan’s All Nippon Airways (ANA) signed a joint venture framework agreement that aims to improve flight connectivity between the two carriers and access to a wider network.\\n\\nThis would also allow ANA and SIA to further strengthen their cooperation on services between Singapore and Japan, including key markets Australia, India, Indonesia, and Malaysia.\\n\\nBoth airline groups would also be able to jointly offer customers more seamless access to flights in their respective route networks, a broad range of joint fare products, tie-ups between frequent flyer programmes and aligned corporate programmes to strengthen their proposition to corporate clients.\\n\\nThis deal will focus on codeshare flights, mileage programmes, lounge access, and coordination on check-in baggage and connecting flights.\\n\\nIf authorised, SIA will become the third airline joint venture partner for ANA, following its partnership with United Airlines in 2011 and Lufthansa Group in 2012. SIA has joint ventures with Air New Zealand, Lufthansa Group and SAS.\\n\\nThe airline also mentioned that they are planning to form a JV with Malaysia Airlines Berhad.',\n",
              "  'publish_date': '2020/01/31, 02:49:48',\n",
              "  'keywords': ['strengthen',\n",
              "   'programmes',\n",
              "   'ana',\n",
              "   'airline',\n",
              "   'japanese',\n",
              "   'deal',\n",
              "   'venture',\n",
              "   'access',\n",
              "   'sia',\n",
              "   'airlines',\n",
              "   'ink',\n",
              "   'joint',\n",
              "   'jv',\n",
              "   'flights'],\n",
              "  'tags': []},\n",
              " {'link': 'https://sbr.com.sg/markets-investing/news/mas-issue-4b-in-savings-bonds-next-year',\n",
              "  'title': 'MAS to issue $4b in savings bonds next year',\n",
              "  'summary': 'More elbow room will be provided for Singapore’s investors, as the Monetary Authority of Singapore (MAS) announced that it will be offering up to $4b savings bonds next year.\\nAccording to a statement by MAS, a new savings bond will continue to be issued every month, while the issuance calendar can be found on the savings bond website.\\n“Interested investors are reminded that they must have an Individual Central Depository (CDP) Securities account with Direct Crediting Service (DCS) activated.\\nCDP helps investors keep track of their Savings Bond holdings and facilitates the crediting of Savings Bond interest payments into investors’ bank accounts,” the statement said.\\n“Investors who already have Individual CDP Securities accounts should check2 that DCS has been activated before applying for Savings Bonds,” it added.',\n",
              "  'text': '$300m will be available by January.\\n\\nMore elbow room will be provided for Singapore’s investors, as the Monetary Authority of Singapore (MAS) announced that it will be offering up to $4b savings bonds next year.\\n\\nAccording to a statement by MAS, a new savings bond will continue to be issued every month, while the issuance calendar can be found on the savings bond website.\\n\\n“Interested investors are reminded that they must have an Individual Central Depository (CDP) Securities account with Direct Crediting Service (DCS) activated. CDP helps investors keep track of their Savings Bond holdings and facilitates the crediting of Savings Bond interest payments into investors’ bank accounts,” the statement said.\\n\\n“Investors who already have Individual CDP Securities accounts should check2 that DCS has been activated before applying for Savings Bonds,” it added.',\n",
              "  'publish_date': '2015/12/02, 02:01:23',\n",
              "  'keywords': ['statement',\n",
              "   'bond',\n",
              "   'dcs',\n",
              "   'securities',\n",
              "   'issue',\n",
              "   'individual',\n",
              "   'investors',\n",
              "   'savings',\n",
              "   'bonds',\n",
              "   'mas',\n",
              "   'cdp',\n",
              "   'crediting',\n",
              "   '4b'],\n",
              "  'tags': []},\n",
              " {'link': 'https://sbr.com.sg/food-beverage/more-news/qaf-limited-profits-down-72-81m-in-q2',\n",
              "  'title': 'QAF Limited profits down 72% to $8.1m in Q2',\n",
              "  'summary': \"Blame it on heightened cost pressures in its primary production segment.\\nIt's a dreary harvest for QAF Limited after its profits fell 72% to $8.1m in Q2.\\nAccording to OCBC Investment Research, revenue only rose by 1% to $209.8m.\\nBakery reported a 5% rise, Primary Production fell by 2%, whilst Trading and Logistics did not report any growth.\\nHere's more from OCBC Investment Research:\",\n",
              "  'text': \"Blame it on heightened cost pressures in its primary production segment.\\n\\nIt's a dreary harvest for QAF Limited after its profits fell 72% to $8.1m in Q2.\\n\\nAccording to OCBC Investment Research, revenue only rose by 1% to $209.8m. There was a slightly mixed sales performance across its segments. Bakery reported a 5% rise, Primary Production fell by 2%, whilst Trading and Logistics did not report any growth.\\n\\nMeanwhile, EBIT fell across its segments, due to higher distribution and A&P expenses for Bakery. Primary Production had lower prices and weaker profit margins.\\n\\nHere's more from OCBC Investment Research:\",\n",
              "  'publish_date': '2017/08/10, 07:47:57',\n",
              "  'keywords': ['weaker',\n",
              "   'limited',\n",
              "   'qaf',\n",
              "   'q2',\n",
              "   'fell',\n",
              "   'bakery',\n",
              "   '81m',\n",
              "   'profits',\n",
              "   'segments',\n",
              "   'primary',\n",
              "   'production',\n",
              "   'investment',\n",
              "   'whilst',\n",
              "   'research',\n",
              "   '72',\n",
              "   'ocbc'],\n",
              "  'tags': []},\n",
              " {'link': 'https://sbr.com.sg/information-technology/news/govtech-tableau-renew-partnership-deepen-public-officers-data-skills',\n",
              "  'title': \"GovTech, Tableau renew partnership to deepen public officers' data skills\",\n",
              "  'summary': 'This is said to empower more public officers to understand and make use of data.\\nAnalytics platform Tableau Software has renewed its agreement with the Government Technology Agency of Singapore (GovTech) to train and deepen public officers’ capabilities in data analytics and visualisation, according to a media release.\\nGovTech’s chief executive Kok Ping Soon said that the collaboration will support the agency in building a digitally-ready and data-literate workforce to transform public service delivery.\\nTableau has been working with GovTech since 2017 with thousands of public officers trained with visual analytics skills.\\nIt has also conducted workshops to train public officers’ data science capabilities and help them better understand their data via interactive visualisation tools and uncover deeper insights.',\n",
              "  'text': 'This is said to empower more public officers to understand and make use of data.\\n\\nAnalytics platform Tableau Software has renewed its agreement with the Government Technology Agency of Singapore (GovTech) to train and deepen public officers’ capabilities in data analytics and visualisation, according to a media release.\\n\\nThe memorandum of intent (MOI), signed on 7 July, is said to empower more public officers to understand and make use of data, transform the public sector’s operations with data-driven decisions, and accelerate the country’s digitalisation movement.\\n\\nUnder the new agreement, Tableau and GovTech will engage in knowledge sharing of resources, industry best practices and tools to continue strengthening the abilities of public officers within the government. Public agencies will also have access to updated Tableau content, learning resources and subject matter experts.\\n\\nGovTech’s chief executive Kok Ping Soon said that the collaboration will support the agency in building a digitally-ready and data-literate workforce to transform public service delivery.\\n\\nTableau has been working with GovTech since 2017 with thousands of public officers trained with visual analytics skills.\\n\\nAs part of the ongoing partnership, Tableau organises Communities of Practice for analytics leaders in the government, where directors and program leads discuss and share best practices and their vision for data analytics. Tableau also actively shares content assets to build the public sector’s knowledge base.\\n\\nIn addition, Tableau has been a key partner of GovTech’s annual Data Arcade Tournament (DAT) which connects data science enthusiasts and practitioners from across the government. It has also conducted workshops to train public officers’ data science capabilities and help them better understand their data via interactive visualisation tools and uncover deeper insights.',\n",
              "  'publish_date': '2020/07/07, 01:34:47',\n",
              "  'keywords': ['officers',\n",
              "   'public',\n",
              "   'renew',\n",
              "   'analytics',\n",
              "   'understand',\n",
              "   'visualisation',\n",
              "   'skills',\n",
              "   'transform',\n",
              "   'tableau',\n",
              "   'govtech',\n",
              "   'partnership',\n",
              "   'deepen',\n",
              "   'data',\n",
              "   'train'],\n",
              "  'tags': []},\n",
              " {'link': 'https://sbr.com.sg/commercial-property/news/frasers-property-unit-secures-785m-green-club-loan',\n",
              "  'title': 'Frasers Property unit secures $785m green club loan',\n",
              "  'summary': 'The net proceeds of the five-year term loan will be used to refinance the development of its Northpoint City South Wing mall.\\nFrasers Property’s indirect wholly-owned subsidiary Frasers Property North Gem Trustee has clinched a green club loan worth $785m, an announcement revealed.\\nAccording to Frasers Property, the green loan was drawn from a club of four banks comprising of Oversea-Chinese Banking Corporation (OCBC), DBS Bank, Bank of China’s Singapore Branch and Sumitomo Mitsui Banking Corporation Singapore.\\nThis green loan follows Frasers Property’s recent first green loan, which was secured for Frasers Tower in September 2018.\\nThis green loan was issued under Frasers Property’s Green Loan Framework, established under the LMA/APLMA Green Loan Principles, the firm noted.',\n",
              "  'text': 'The net proceeds of the five-year term loan will be used to refinance the development of its Northpoint City South Wing mall.\\n\\nFrasers Property’s indirect wholly-owned subsidiary Frasers Property North Gem Trustee has clinched a green club loan worth $785m, an announcement revealed.\\n\\nAccording to Frasers Property, the green loan was drawn from a club of four banks comprising of Oversea-Chinese Banking Corporation (OCBC), DBS Bank, Bank of China’s Singapore Branch and Sumitomo Mitsui Banking Corporation Singapore.\\n\\nAlso read: Frasers Property Q1 profits surged 76.1% to $145.59m\\n\\nThe net proceeds of the five-year term loan will be used to refinance existing loans relating to the development of retail mall Northpoint City South Wing, the firm said. Northpoint City South Wing is part of the largest integrated development in the north of Singapore, which includes a 920-unit private condominium, two retail mall wings with a combined net lettable area spanning more than 47,000 sqm, as well as multiple community spaces and green features.\\n\\nThis green loan follows Frasers Property’s recent first green loan, which was secured for Frasers Tower in September 2018. This green loan was issued under Frasers Property’s Green Loan Framework, established under the LMA/APLMA Green Loan Principles, the firm noted.',\n",
              "  'publish_date': '2019/03/21, 01:50:31',\n",
              "  'keywords': ['frasers',\n",
              "   'secures',\n",
              "   'loan',\n",
              "   'club',\n",
              "   '785m',\n",
              "   'property',\n",
              "   'net',\n",
              "   'propertys',\n",
              "   'northpoint',\n",
              "   'development',\n",
              "   'south',\n",
              "   'green',\n",
              "   'wing',\n",
              "   'unit'],\n",
              "  'tags': []},\n",
              " {'link': 'https://sbr.com.sg/transport-logistics/news/singapore-redeploy-over-100-workers-after-hsr-project-suspension',\n",
              "  'title': 'Singapore to redeploy over 100 workers after HSR project suspension',\n",
              "  'summary': 'Over 100 specialists working on the Singapore-Kuala Lumpur High Speed Rail (HSR) will be redeployed following the agreement between Singapore and Malaysia to suspend the project, the Land Transport Authority (LTA) revealed.\\nIn a press query, LTA said these specialists are part of an infrastructure company called SG HSR, which was formed by Singapore in 2017.\\n“During the period of suspension, SG HSR staff will be offered alternative job roles in LTA.\\nMoreover, SG HSR will still be working with government agencies and external stakeholders to manage the suspension of the project.\\n“Subsequently, SG HSR’s work is expected to be scaled down until the HSR project resumes,” LTA concluded.',\n",
              "  'text': 'But the project company will continue to work on existing contracts and tenders.\\n\\nOver 100 specialists working on the Singapore-Kuala Lumpur High Speed Rail (HSR) will be redeployed following the agreement between Singapore and Malaysia to suspend the project, the Land Transport Authority (LTA) revealed.\\n\\nIn a press query, LTA said these specialists are part of an infrastructure company called SG HSR, which was formed by Singapore in 2017.\\n\\n“During the period of suspension, SG HSR staff will be offered alternative job roles in LTA. We are confident that they will continue to contribute effectively in the LTA family in the roles that we take up during this suspension period,” LTA added.\\n\\n\\n\\nMoreover, SG HSR will still be working with government agencies and external stakeholders to manage the suspension of the project. It will still work on following up on existing contracts and ongoing tenders.\\n\\n“Subsequently, SG HSR’s work is expected to be scaled down until the HSR project resumes,” LTA concluded.',\n",
              "  'publish_date': '2018/09/07, 04:39:42',\n",
              "  'keywords': ['working',\n",
              "   'roles',\n",
              "   'workers',\n",
              "   '100',\n",
              "   'lta',\n",
              "   'project',\n",
              "   'sg',\n",
              "   'specialists',\n",
              "   'work',\n",
              "   'hsr',\n",
              "   'redeploy',\n",
              "   'suspension',\n",
              "   'singapore'],\n",
              "  'tags': []},\n",
              " {'link': 'https://sbr.com.sg/hotels-tourism/news/singapore-ranked-4th-in-asian-hotel-investments',\n",
              "  'title': 'Singapore ranked 4th in Asian hotel investments',\n",
              "  'summary': 'Japan led the market activity with $600 million worth of transactions.\\nAccording to Jones Lang LaSalle, during 2010, the Asian hotel market witnessed 43 major transactions with activity dominated by Japan, China, Hong Kong, India, Singapore and Thailand.\\nChina, Hong Kong, India, Singapore and Thailand had transactions worth $533 million, $397 million, $325 million, $323 million and $164 million respectively.\\nAlthough Singapore, along with Hong Kong, dominated the hotel markets in Southeast Asia, Japan and China still led the market activity in the Asian region.\\nJapan is expected to emerge as the investment hot spot in 2011, due to the availability of stock.',\n",
              "  'text': 'Japan led the market activity with $600 million worth of transactions.\\n\\nAccording to Jones Lang LaSalle, during 2010, the Asian hotel market witnessed 43 major transactions with activity dominated by Japan, China, Hong Kong, India, Singapore and Thailand.\\n\\nChina, Hong Kong, India, Singapore and Thailand had transactions worth $533 million, $397 million, $325 million, $323 million and $164 million respectively.\\n\\nAlthough Singapore, along with Hong Kong, dominated the hotel markets in Southeast Asia, Japan and China still led the market activity in the Asian region.\\n\\nAsian transaction volume is projected to increase through 2011 to total around US$2.75 million. Japan is expected to emerge as the investment hot spot in 2011, due to the availability of stock.',\n",
              "  'publish_date': '2011/01/28, 01:37:16',\n",
              "  'keywords': ['activity',\n",
              "   'investments',\n",
              "   'kong',\n",
              "   'japan',\n",
              "   'hotel',\n",
              "   'ranked',\n",
              "   'transactions',\n",
              "   'asian',\n",
              "   '4th',\n",
              "   'million',\n",
              "   'market',\n",
              "   'hong',\n",
              "   'led',\n",
              "   'worth',\n",
              "   'singapore'],\n",
              "  'tags': []},\n",
              " {'link': 'https://sbr.com.sg/banking-technology/more-news/dbs-joins-trade-finance-network-contour',\n",
              "  'title': 'DBS joins trade finance network Contour',\n",
              "  'summary': 'It can now provide digital letter of credits to clients.\\nDBS has joined the blockchain trade finance network Contour, becoming the first Singaporean lender to do so, according to a news release.\\nBuilt on enterprise blockchain tech firm R3’s Corda platform, the Contour network focuses on digitalisation, including the creation, exchange, approval and issuance of letter of credits (LCs).\\nThrough the network, DBS will provide a fully digital end-to-end LC settlement process for clients, as well as transferring trade and title documents.\\nCustomers can also track transactions on the platform in real time, along with a full audit trail.',\n",
              "  'text': 'It can now provide digital letter of credits to clients.\\n\\nDBS has joined the blockchain trade finance network Contour, becoming the first Singaporean lender to do so, according to a news release.\\n\\nBuilt on enterprise blockchain tech firm R3’s Corda platform, the Contour network focuses on digitalisation, including the creation, exchange, approval and issuance of letter of credits (LCs). Through the network, DBS will provide a fully digital end-to-end LC settlement process for clients, as well as transferring trade and title documents.\\n\\nCorporate clients can conduct pre-issuance negotiation between applicant and beneficiary in real time, and share this with DBS post-endorsement for LC issuance, thus increasing the accuracy of LCs issued and facilitating quicker resolution in the event of discrepancies.\\n\\nCustomers can also track transactions on the platform in real time, along with a full audit trail.\\n\\n',\n",
              "  'publish_date': '2020/05/11, 04:58:14',\n",
              "  'keywords': ['platform',\n",
              "   'digital',\n",
              "   'issuance',\n",
              "   'dbs',\n",
              "   'lc',\n",
              "   'real',\n",
              "   'joins',\n",
              "   'finance',\n",
              "   'provide',\n",
              "   'network',\n",
              "   'letter',\n",
              "   'lcs',\n",
              "   'contour',\n",
              "   'trade'],\n",
              "  'tags': []},\n",
              " {'link': 'https://sbr.com.sg/telecom-internet/news/when-worse-comes-worst-m1-and-starhub-suffer-most-interest-rates-normalise',\n",
              "  'title': 'When worse comes to worst: M1 and Starhub to suffer the most as interest rates normalise',\n",
              "  'summary': 'And the trend of yield compression reverses.\\nTelcos have benefitted from investors searching for yields during the extended period of zero interest rates during 2009-13.\\nUOB Kay Hian says that the trend of yield compression could reverse as interest rates start to normalise in 2H15.\\nUOB Kay Hian adds that M1’s and StarHub’s yield spread are about 1SD below the long-term mean, while on the contrary, SingTel’s yield spread is almost 1SD above the long-term mean.\\nTherefore, the potential downside in a worst-case scenario is more severe at 30% for M1 and 27% for StarHub, compared with only 13% for SingTel.',\n",
              "  'text': 'And the trend of yield compression reverses.\\n\\nTelcos have benefitted from investors searching for yields during the extended period of zero interest rates during 2009-13.\\n\\nThere could be a reversion in yield spread back to their long-term mean of 3.2% for M1 and 3.6% for StarHub and an expansion of 70bp for 10-year government bond yield to 3.0%, according to estimates by UOB Kay Hian.\\n\\nUOB Kay Hian says that the trend of yield compression could reverse as interest rates start to normalise in 2H15.\\n\\nUOB Kay Hian adds that M1’s and StarHub’s yield spread are about 1SD below the long-term mean, while on the contrary, SingTel’s yield spread is almost 1SD above the long-term mean. Therefore, the potential downside in a worst-case scenario is more severe at 30% for M1 and 27% for StarHub, compared with only 13% for SingTel.',\n",
              "  'publish_date': '2015/01/12, 02:21:28',\n",
              "  'keywords': ['worse',\n",
              "   'mean',\n",
              "   'rates',\n",
              "   'kay',\n",
              "   'spread',\n",
              "   'trend',\n",
              "   'suffer',\n",
              "   'worst',\n",
              "   'normalise',\n",
              "   'interest',\n",
              "   'yield',\n",
              "   'comes',\n",
              "   'longterm',\n",
              "   'm1',\n",
              "   'starhub'],\n",
              "  'tags': []}]"
            ]
          },
          "execution_count": 54,
          "metadata": {},
          "output_type": "execute_result"
        }
      ],
      "source": [
        "data[0:10]"
      ]
    },
    {
      "cell_type": "code",
      "execution_count": 34,
      "metadata": {},
      "outputs": [
        {
          "name": "stderr",
          "output_type": "stream",
          "text": [
            "[nltk_data] Downloading package vader_lexicon to\n",
            "[nltk_data]     C:\\Users\\jimmy\\AppData\\Roaming\\nltk_data...\n"
          ]
        }
      ],
      "source": [
        "# NLTK VADER for sentiment analysis\n",
        "import nltk\n",
        "nltk.downloader.download('vader_lexicon')\n",
        "from nltk.sentiment.vader import SentimentIntensityAnalyzer"
      ]
    },
    {
      "cell_type": "code",
      "execution_count": 52,
      "metadata": {},
      "outputs": [
        {
          "name": "stdout",
          "output_type": "stream",
          "text": [
            "{'neg': 0.0, 'neu': 0.707, 'pos': 0.293, 'compound': 0.4404}\n",
            "{'neg': 0.0, 'neu': 1.0, 'pos': 0.0, 'compound': 0.0}\n",
            "{'neg': 0.0, 'neu': 1.0, 'pos': 0.0, 'compound': 0.0}\n",
            "{'neg': 0.161, 'neu': 0.593, 'pos': 0.246, 'compound': 0.25}\n",
            "{'neg': 0.0, 'neu': 1.0, 'pos': 0.0, 'compound': 0.0}\n",
            "{'neg': 0.0, 'neu': 0.753, 'pos': 0.247, 'compound': 0.3182}\n",
            "{'neg': 0.0, 'neu': 1.0, 'pos': 0.0, 'compound': 0.0}\n",
            "{'neg': 0.0, 'neu': 1.0, 'pos': 0.0, 'compound': 0.0}\n",
            "{'neg': 0.0, 'neu': 1.0, 'pos': 0.0, 'compound': 0.0}\n",
            "{'neg': 0.412, 'neu': 0.462, 'pos': 0.126, 'compound': -0.8137}\n"
          ]
        }
      ],
      "source": [
        "test_text = 'This was the worst movie EVER MADE!!!'\n",
        "vader = SentimentIntensityAnalyzer()\n",
        "for i in range(10):\n",
        "    polarity_scores = vader.polarity_scores(data[i]['title'])\n",
        "    print(polarity_scores)\n",
        "\n"
      ]
    },
    {
      "cell_type": "code",
      "execution_count": null,
      "metadata": {},
      "outputs": [],
      "source": []
    }
  ],
  "metadata": {
    "colab": {
      "collapsed_sections": [],
      "provenance": []
    },
    "kernelspec": {
      "display_name": "Python 3.10.4 ('venv': venv)",
      "language": "python",
      "name": "python3"
    },
    "language_info": {
      "codemirror_mode": {
        "name": "ipython",
        "version": 3
      },
      "file_extension": ".py",
      "mimetype": "text/x-python",
      "name": "python",
      "nbconvert_exporter": "python",
      "pygments_lexer": "ipython3",
      "version": "3.10.4"
    },
    "vscode": {
      "interpreter": {
        "hash": "c76164929ac8665f9c32a7f5ac9bb2dc5d7928b04380c745cb01ab9f13152b59"
      }
    }
  },
  "nbformat": 4,
  "nbformat_minor": 0
}
